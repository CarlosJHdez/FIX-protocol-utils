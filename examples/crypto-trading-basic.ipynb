{
  "cells": [
    {
      "cell_type": "markdown",
      "metadata": {
        "id": "PRIg9SHHkirD"
      },
      "source": [
        "# Alpaca-py crypto trading basic"
      ]
    },
    {
      "cell_type": "markdown",
      "metadata": {
        "id": "xrTtKEhkkirE"
      },
      "source": [
        "[![Open In Colab](https://colab.research.google.com/assets/colab-badge.svg)](https://colab.research.google.com/github/alpacahq/alpaca-py/blob/master/examples/crypto-trading-basic.ipynb)"
      ]
    },
    {
      "cell_type": "markdown",
      "metadata": {
        "id": "6eB4qLqdkirE"
      },
      "source": [
        "- This notebook shows how to use alpaca-py with crypto trading API endpoints\n",
        "- Please use ``paper account``. Please ``DO NOT`` use this notebook with live account. In this notebook, we place orders for crypto as an example."
      ]
    },
    {
      "cell_type": "code",
      "execution_count": 1,
      "metadata": {
        "id": "QmnnMshukirE"
      },
      "outputs": [],
      "source": [
        "# Please change the following to your own PAPER api key and secret\n",
        "# You can get them from https://alpaca.markets/\n",
        "\n",
        "api_key = \"PKVDNAHHJOHTN84HJFF4\"\n",
        "secret_key = \"xax9fcWBGPrc8ETXp6uu4PwOV5LWmBolFpM0Lfif\"\n",
        "\n",
        "#### We use paper environment for this example ####\n",
        "paper = True # Please do not modify this. This example is for paper trading only.\n",
        "####\n",
        "\n",
        "# Below are the variables for development this documents\n",
        "# Please do not change these variables\n",
        "trade_api_url = None\n",
        "trade_api_wss = None\n",
        "data_api_url = None\n",
        "stream_data_wss = None"
      ]
    },
    {
      "cell_type": "code",
      "execution_count": 2,
      "metadata": {
        "colab": {
          "base_uri": "https://localhost:8080/"
        },
        "id": "bEyk0JIQkirE",
        "outputId": "e831bb71-a798-4426-e582-ea580065e87b"
      },
      "outputs": [
        {
          "output_type": "stream",
          "name": "stdout",
          "text": [
            "Collecting alpaca-py\n",
            "  Downloading alpaca_py-0.33.1-py3-none-any.whl.metadata (12 kB)\n",
            "Requirement already satisfied: msgpack<2.0.0,>=1.0.3 in /usr/local/lib/python3.10/dist-packages (from alpaca-py) (1.1.0)\n",
            "Requirement already satisfied: pandas>=1.5.3 in /usr/local/lib/python3.10/dist-packages (from alpaca-py) (2.2.2)\n",
            "Requirement already satisfied: pydantic<3.0.0,>=2.0.3 in /usr/local/lib/python3.10/dist-packages (from alpaca-py) (2.9.2)\n",
            "Requirement already satisfied: requests<3.0.0,>=2.30.0 in /usr/local/lib/python3.10/dist-packages (from alpaca-py) (2.32.3)\n",
            "Collecting sseclient-py<2.0.0,>=1.7.2 (from alpaca-py)\n",
            "  Downloading sseclient_py-1.8.0-py2.py3-none-any.whl.metadata (2.0 kB)\n",
            "Collecting websockets>=10.4 (from alpaca-py)\n",
            "  Downloading websockets-14.1-cp310-cp310-manylinux_2_5_x86_64.manylinux1_x86_64.manylinux_2_17_x86_64.manylinux2014_x86_64.whl.metadata (6.7 kB)\n",
            "Requirement already satisfied: numpy>=1.22.4 in /usr/local/lib/python3.10/dist-packages (from pandas>=1.5.3->alpaca-py) (1.26.4)\n",
            "Requirement already satisfied: python-dateutil>=2.8.2 in /usr/local/lib/python3.10/dist-packages (from pandas>=1.5.3->alpaca-py) (2.8.2)\n",
            "Requirement already satisfied: pytz>=2020.1 in /usr/local/lib/python3.10/dist-packages (from pandas>=1.5.3->alpaca-py) (2024.2)\n",
            "Requirement already satisfied: tzdata>=2022.7 in /usr/local/lib/python3.10/dist-packages (from pandas>=1.5.3->alpaca-py) (2024.2)\n",
            "Requirement already satisfied: annotated-types>=0.6.0 in /usr/local/lib/python3.10/dist-packages (from pydantic<3.0.0,>=2.0.3->alpaca-py) (0.7.0)\n",
            "Requirement already satisfied: pydantic-core==2.23.4 in /usr/local/lib/python3.10/dist-packages (from pydantic<3.0.0,>=2.0.3->alpaca-py) (2.23.4)\n",
            "Requirement already satisfied: typing-extensions>=4.6.1 in /usr/local/lib/python3.10/dist-packages (from pydantic<3.0.0,>=2.0.3->alpaca-py) (4.12.2)\n",
            "Requirement already satisfied: charset-normalizer<4,>=2 in /usr/local/lib/python3.10/dist-packages (from requests<3.0.0,>=2.30.0->alpaca-py) (3.4.0)\n",
            "Requirement already satisfied: idna<4,>=2.5 in /usr/local/lib/python3.10/dist-packages (from requests<3.0.0,>=2.30.0->alpaca-py) (3.10)\n",
            "Requirement already satisfied: urllib3<3,>=1.21.1 in /usr/local/lib/python3.10/dist-packages (from requests<3.0.0,>=2.30.0->alpaca-py) (2.2.3)\n",
            "Requirement already satisfied: certifi>=2017.4.17 in /usr/local/lib/python3.10/dist-packages (from requests<3.0.0,>=2.30.0->alpaca-py) (2024.8.30)\n",
            "Requirement already satisfied: six>=1.5 in /usr/local/lib/python3.10/dist-packages (from python-dateutil>=2.8.2->pandas>=1.5.3->alpaca-py) (1.16.0)\n",
            "Downloading alpaca_py-0.33.1-py3-none-any.whl (119 kB)\n",
            "\u001b[?25l   \u001b[90m━━━━━━━━━━━━━━━━━━━━━━━━━━━━━━━━━━━━━━━━\u001b[0m \u001b[32m0.0/120.0 kB\u001b[0m \u001b[31m?\u001b[0m eta \u001b[36m-:--:--\u001b[0m\r\u001b[2K   \u001b[91m━━━━━━━━━━━━━━━━━━━━━━━━━━━━━━━━━━━━━\u001b[0m\u001b[91m╸\u001b[0m\u001b[90m━━\u001b[0m \u001b[32m112.6/120.0 kB\u001b[0m \u001b[31m4.4 MB/s\u001b[0m eta \u001b[36m0:00:01\u001b[0m\r\u001b[2K   \u001b[90m━━━━━━━━━━━━━━━━━━━━━━━━━━━━━━━━━━━━━━━━\u001b[0m \u001b[32m120.0/120.0 kB\u001b[0m \u001b[31m3.2 MB/s\u001b[0m eta \u001b[36m0:00:00\u001b[0m\n",
            "\u001b[?25hDownloading sseclient_py-1.8.0-py2.py3-none-any.whl (8.8 kB)\n",
            "Downloading websockets-14.1-cp310-cp310-manylinux_2_5_x86_64.manylinux1_x86_64.manylinux_2_17_x86_64.manylinux2014_x86_64.whl (168 kB)\n",
            "\u001b[?25l   \u001b[90m━━━━━━━━━━━━━━━━━━━━━━━━━━━━━━━━━━━━━━━━\u001b[0m \u001b[32m0.0/168.2 kB\u001b[0m \u001b[31m?\u001b[0m eta \u001b[36m-:--:--\u001b[0m\r\u001b[2K   \u001b[90m━━━━━━━━━━━━━━━━━━━━━━━━━━━━━━━━━━━━━━━━\u001b[0m \u001b[32m168.2/168.2 kB\u001b[0m \u001b[31m7.2 MB/s\u001b[0m eta \u001b[36m0:00:00\u001b[0m\n",
            "\u001b[?25hInstalling collected packages: sseclient-py, websockets, alpaca-py\n",
            "Successfully installed alpaca-py-0.33.1 sseclient-py-1.8.0 websockets-14.1\n"
          ]
        }
      ],
      "source": [
        "# install alpaca-py\n",
        "! python3 -m pip install alpaca-py"
      ]
    },
    {
      "cell_type": "code",
      "execution_count": 3,
      "metadata": {
        "id": "Wv_JNwCLkirF"
      },
      "outputs": [],
      "source": [
        "import json\n",
        "from datetime import datetime, timedelta\n",
        "from zoneinfo import ZoneInfo\n",
        "\n",
        "import alpaca\n",
        "from alpaca.trading.client import TradingClient\n",
        "from alpaca.data.timeframe import TimeFrame, TimeFrameUnit\n",
        "from alpaca.data.historical.crypto import CryptoHistoricalDataClient\n",
        "from alpaca.trading.stream import TradingStream\n",
        "from alpaca.data.live.crypto import CryptoDataStream\n",
        "\n",
        "from alpaca.data.requests import (\n",
        "    CryptoBarsRequest,\n",
        "    CryptoQuoteRequest,\n",
        "    CryptoTradesRequest,\n",
        "    CryptoLatestQuoteRequest\n",
        "    )\n",
        "from alpaca.trading.requests import (\n",
        "    GetAssetsRequest,\n",
        "    MarketOrderRequest,\n",
        "    LimitOrderRequest,\n",
        "    StopLimitOrderRequest,\n",
        "    GetOrdersRequest,\n",
        "    ClosePositionRequest\n",
        ")\n",
        "from alpaca.trading.enums import (\n",
        "    AssetClass,\n",
        "    AssetStatus,\n",
        "    OrderSide,\n",
        "    OrderType,\n",
        "    TimeInForce,\n",
        "    QueryOrderStatus\n",
        ")\n",
        "from alpaca.common.exceptions import APIError"
      ]
    },
    {
      "cell_type": "code",
      "execution_count": 4,
      "metadata": {
        "id": "bEmuv5JtkirF"
      },
      "outputs": [],
      "source": [
        "# to run async code in jupyter notebook\n",
        "import nest_asyncio\n",
        "nest_asyncio.apply()"
      ]
    },
    {
      "cell_type": "code",
      "execution_count": 5,
      "metadata": {
        "colab": {
          "base_uri": "https://localhost:8080/",
          "height": 35
        },
        "id": "LQm9eotkkirF",
        "outputId": "cfbd3ebd-5b39-47e5-b961-f3e9a94e7181"
      },
      "outputs": [
        {
          "output_type": "execute_result",
          "data": {
            "text/plain": [
              "'0.33.1'"
            ],
            "application/vnd.google.colaboratory.intrinsic+json": {
              "type": "string"
            }
          },
          "metadata": {},
          "execution_count": 5
        }
      ],
      "source": [
        "# check version of alpaca-py\n",
        "alpaca.__version__"
      ]
    },
    {
      "cell_type": "markdown",
      "metadata": {
        "id": "Iw0fIs90kirF"
      },
      "source": [
        "# Trading Client"
      ]
    },
    {
      "cell_type": "code",
      "execution_count": 6,
      "metadata": {
        "id": "xq6eRPptkirF"
      },
      "outputs": [],
      "source": [
        "# setup clients\n",
        "trade_client = TradingClient(api_key=api_key, secret_key=secret_key, paper=paper, url_override=trade_api_url)"
      ]
    },
    {
      "cell_type": "code",
      "execution_count": 7,
      "metadata": {
        "colab": {
          "base_uri": "https://localhost:8080/"
        },
        "id": "HT_lPE7DkirF",
        "outputId": "33023602-1569-4e46-f6cd-e4c95b078ca5"
      },
      "outputs": [
        {
          "output_type": "execute_result",
          "data": {
            "text/plain": [
              "{   'account_blocked': False,\n",
              "    'account_number': 'PA3GUIIW3EYE',\n",
              "    'accrued_fees': '0',\n",
              "    'buying_power': '979484.08',\n",
              "    'cash': '500000',\n",
              "    'created_at': datetime.datetime(2024, 12, 3, 2, 16, 48, 317998, tzinfo=TzInfo(UTC)),\n",
              "    'crypto_status': <AccountStatus.ACTIVE: 'ACTIVE'>,\n",
              "    'currency': 'USD',\n",
              "    'daytrade_count': 1,\n",
              "    'daytrading_buying_power': '0',\n",
              "    'equity': '500000',\n",
              "    'id': UUID('7f752f4c-d161-4a74-99c1-38e5b50ca890'),\n",
              "    'initial_margin': '10257.96',\n",
              "    'last_equity': '500000',\n",
              "    'last_maintenance_margin': '0',\n",
              "    'long_market_value': '0',\n",
              "    'maintenance_margin': '0',\n",
              "    'multiplier': '2',\n",
              "    'non_marginable_buying_power': '487742.04',\n",
              "    'options_approved_level': 2,\n",
              "    'options_buying_power': '489742.04',\n",
              "    'options_trading_level': 2,\n",
              "    'pattern_day_trader': False,\n",
              "    'pending_transfer_in': None,\n",
              "    'pending_transfer_out': None,\n",
              "    'portfolio_value': '500000',\n",
              "    'regt_buying_power': '979484.08',\n",
              "    'short_market_value': '0',\n",
              "    'shorting_enabled': True,\n",
              "    'sma': '0',\n",
              "    'status': <AccountStatus.ACTIVE: 'ACTIVE'>,\n",
              "    'trade_suspended_by_user': False,\n",
              "    'trading_blocked': False,\n",
              "    'transfers_blocked': False}"
            ]
          },
          "metadata": {},
          "execution_count": 7
        }
      ],
      "source": [
        "# check trading account\n",
        "# You can check definition of each field in the following documents\n",
        "# ref. https://docs.alpaca.markets/docs/account-plans\n",
        "# ref. https://docs.alpaca.markets/reference/getaccount-1\n",
        "acct = trade_client.get_account()\n",
        "acct"
      ]
    },
    {
      "cell_type": "code",
      "execution_count": 8,
      "metadata": {
        "colab": {
          "base_uri": "https://localhost:8080/"
        },
        "id": "c-kIu4F5kirF",
        "outputId": "bb43b494-f077-489d-bb54-9e11f1a65c89"
      },
      "outputs": [
        {
          "output_type": "execute_result",
          "data": {
            "text/plain": [
              "{   'dtbp_check': <DTBPCheck.ENTRY: 'entry'>,\n",
              "    'fractional_trading': True,\n",
              "    'max_margin_multiplier': '4',\n",
              "    'max_options_trading_level': None,\n",
              "    'no_shorting': False,\n",
              "    'pdt_check': <PDTCheck.ENTRY: 'entry'>,\n",
              "    'ptp_no_exception_entry': False,\n",
              "    'suspend_trade': False,\n",
              "    'trade_confirm_email': <TradeConfirmationEmail.ALL: 'all'>}"
            ]
          },
          "metadata": {},
          "execution_count": 8
        }
      ],
      "source": [
        "# check account configuration\n",
        "# ref. https://docs.alpaca.markets/reference/getaccountconfig-1\n",
        "acct_config = trade_client.get_account_configurations()\n",
        "acct_config"
      ]
    },
    {
      "cell_type": "code",
      "execution_count": 9,
      "metadata": {
        "colab": {
          "base_uri": "https://localhost:8080/"
        },
        "id": "Tpg386GbkirF",
        "outputId": "5ed8f6ca-d1dd-4e4f-f307-e04bbf3987e0"
      },
      "outputs": [
        {
          "output_type": "execute_result",
          "data": {
            "text/plain": [
              "[{   'asset_class': <AssetClass.CRYPTO: 'crypto'>,\n",
              "     'attributes': [],\n",
              "     'easy_to_borrow': False,\n",
              "     'exchange': <AssetExchange.CRYPTO: 'CRYPTO'>,\n",
              "     'fractionable': True,\n",
              "     'id': UUID('39d2df3b-4273-46a9-956d-c23634be1e38'),\n",
              "     'maintenance_margin_requirement': 100.0,\n",
              "     'marginable': False,\n",
              "     'min_order_size': 0.071581961,\n",
              "     'min_trade_increment': 1e-09,\n",
              "     'name': 'Uniswap / US Dollar',\n",
              "     'price_increment': 0.001,\n",
              "     'shortable': False,\n",
              "     'status': <AssetStatus.ACTIVE: 'active'>,\n",
              "     'symbol': 'UNI/USD',\n",
              "     'tradable': True},\n",
              " {   'asset_class': <AssetClass.CRYPTO: 'crypto'>,\n",
              "     'attributes': [],\n",
              "     'easy_to_borrow': False,\n",
              "     'exchange': <AssetExchange.CRYPTO: 'CRYPTO'>,\n",
              "     'fractionable': True,\n",
              "     'id': UUID('0515189d-1933-4a94-89ce-4e9a24356d58'),\n",
              "     'maintenance_margin_requirement': 100.0,\n",
              "     'marginable': False,\n",
              "     'min_order_size': 0.019461689,\n",
              "     'min_trade_increment': 1e-09,\n",
              "     'name': 'Avalanche / US Dollar',\n",
              "     'price_increment': 0.0005,\n",
              "     'shortable': False,\n",
              "     'status': <AssetStatus.ACTIVE: 'active'>,\n",
              "     'symbol': 'AVAX/USD',\n",
              "     'tradable': True}]"
            ]
          },
          "metadata": {},
          "execution_count": 9
        }
      ],
      "source": [
        "# get list of crypto pairs\n",
        "# ref. https://docs.alpaca.markets/reference/get-v2-assets-1\n",
        "req = GetAssetsRequest(\n",
        "  asset_class=AssetClass.CRYPTO,\n",
        "  status=AssetStatus.ACTIVE\n",
        ")\n",
        "assets = trade_client.get_all_assets(req)\n",
        "assets[:2]"
      ]
    },
    {
      "cell_type": "markdown",
      "metadata": {
        "id": "-bAx6pBtkirF"
      },
      "source": [
        "### Orders"
      ]
    },
    {
      "cell_type": "code",
      "execution_count": 10,
      "metadata": {
        "id": "OsxcxUwEkirF"
      },
      "outputs": [],
      "source": [
        "# we will place orders which Alapca trading platform supports\n",
        "# - order types for crypto: market, limit, stop_limit\n",
        "# - time_in_force for crypto: gtc, ioc.\n",
        "# please refer to the following documents for more details\n",
        "# ref. https://docs.alpaca.markets/docs/orders-at-alpaca\n",
        "# ref. https://docs.alpaca.markets/reference/postorder\n",
        "\n",
        "\n",
        "# we will place orders for symbol: BTC/USD in this example\n",
        "symbol = \"BTC/USD\""
      ]
    },
    {
      "cell_type": "code",
      "execution_count": 11,
      "metadata": {
        "colab": {
          "base_uri": "https://localhost:8080/"
        },
        "id": "7WKTIl3hkirG",
        "outputId": "1220d78c-0992-4640-b8d3-a2400a0a81a4"
      },
      "outputs": [
        {
          "output_type": "execute_result",
          "data": {
            "text/plain": [
              "{   'asset_class': <AssetClass.CRYPTO: 'crypto'>,\n",
              "    'asset_id': UUID('276e2673-764b-4ab6-a611-caf665ca6340'),\n",
              "    'canceled_at': None,\n",
              "    'client_order_id': 'fe6e34af-2555-49d1-9b0d-73e6bc10a902',\n",
              "    'created_at': datetime.datetime(2024, 12, 3, 3, 33, 7, 578601, tzinfo=TzInfo(UTC)),\n",
              "    'expired_at': None,\n",
              "    'extended_hours': False,\n",
              "    'failed_at': None,\n",
              "    'filled_at': None,\n",
              "    'filled_avg_price': None,\n",
              "    'filled_qty': '0',\n",
              "    'hwm': None,\n",
              "    'id': UUID('e5b3fedc-10a2-4f7c-89be-446c9c6584e4'),\n",
              "    'legs': None,\n",
              "    'limit_price': None,\n",
              "    'notional': None,\n",
              "    'order_class': <OrderClass.SIMPLE: 'simple'>,\n",
              "    'order_type': <OrderType.MARKET: 'market'>,\n",
              "    'qty': '0.001',\n",
              "    'replaced_at': None,\n",
              "    'replaced_by': None,\n",
              "    'replaces': None,\n",
              "    'side': <OrderSide.BUY: 'buy'>,\n",
              "    'status': <OrderStatus.PENDING_NEW: 'pending_new'>,\n",
              "    'stop_price': None,\n",
              "    'submitted_at': datetime.datetime(2024, 12, 3, 3, 33, 7, 578601, tzinfo=TzInfo(UTC)),\n",
              "    'symbol': 'BTC/USD',\n",
              "    'time_in_force': <TimeInForce.GTC: 'gtc'>,\n",
              "    'trail_percent': None,\n",
              "    'trail_price': None,\n",
              "    'type': <OrderType.MARKET: 'market'>,\n",
              "    'updated_at': datetime.datetime(2024, 12, 3, 3, 33, 7, 581399, tzinfo=TzInfo(UTC))}"
            ]
          },
          "metadata": {},
          "execution_count": 11
        }
      ],
      "source": [
        "# simple, market order\n",
        "# you can specify:\n",
        "# or notional value (e.g. 100 USD) (which is in the next example)\n",
        "req = MarketOrderRequest(\n",
        "    symbol = symbol,\n",
        "    qty = 0.001,\n",
        "    side = OrderSide.BUY,\n",
        "    type = OrderType.MARKET,\n",
        "    time_in_force = TimeInForce.GTC,\n",
        ")\n",
        "res = trade_client.submit_order(req)\n",
        "res"
      ]
    },
    {
      "cell_type": "code",
      "execution_count": 12,
      "metadata": {
        "colab": {
          "base_uri": "https://localhost:8080/"
        },
        "id": "nrMhCak7kirG",
        "outputId": "6c1d5942-25ce-4ce1-b42d-7f055e39c102"
      },
      "outputs": [
        {
          "output_type": "execute_result",
          "data": {
            "text/plain": [
              "{   'asset_class': <AssetClass.CRYPTO: 'crypto'>,\n",
              "    'asset_id': UUID('276e2673-764b-4ab6-a611-caf665ca6340'),\n",
              "    'canceled_at': None,\n",
              "    'client_order_id': '9b86722d-6f2e-4216-ba67-1ab0eb319496',\n",
              "    'created_at': datetime.datetime(2024, 12, 3, 3, 34, 9, 126737, tzinfo=TzInfo(UTC)),\n",
              "    'expired_at': None,\n",
              "    'extended_hours': False,\n",
              "    'failed_at': None,\n",
              "    'filled_at': None,\n",
              "    'filled_avg_price': None,\n",
              "    'filled_qty': '0',\n",
              "    'hwm': None,\n",
              "    'id': UUID('d6424412-a531-4ada-9748-fffef736a829'),\n",
              "    'legs': None,\n",
              "    'limit_price': None,\n",
              "    'notional': '1.22',\n",
              "    'order_class': <OrderClass.SIMPLE: 'simple'>,\n",
              "    'order_type': <OrderType.MARKET: 'market'>,\n",
              "    'qty': None,\n",
              "    'replaced_at': None,\n",
              "    'replaced_by': None,\n",
              "    'replaces': None,\n",
              "    'side': <OrderSide.BUY: 'buy'>,\n",
              "    'status': <OrderStatus.PENDING_NEW: 'pending_new'>,\n",
              "    'stop_price': None,\n",
              "    'submitted_at': datetime.datetime(2024, 12, 3, 3, 34, 9, 126737, tzinfo=TzInfo(UTC)),\n",
              "    'symbol': 'BTC/USD',\n",
              "    'time_in_force': <TimeInForce.GTC: 'gtc'>,\n",
              "    'trail_percent': None,\n",
              "    'trail_price': None,\n",
              "    'type': <OrderType.MARKET: 'market'>,\n",
              "    'updated_at': datetime.datetime(2024, 12, 3, 3, 34, 9, 129606, tzinfo=TzInfo(UTC))}"
            ]
          },
          "metadata": {},
          "execution_count": 12
        }
      ],
      "source": [
        "# simple, market order, notional\n",
        "\n",
        "req = MarketOrderRequest(\n",
        "    symbol = symbol,\n",
        "    notional = 1.22,  # notional is specified in USD, here we specify $1.11\n",
        "    side = OrderSide.BUY,\n",
        "    type = OrderType.MARKET,\n",
        "    time_in_force = TimeInForce.GTC,\n",
        ")\n",
        "res = trade_client.submit_order(req)\n",
        "res"
      ]
    },
    {
      "cell_type": "code",
      "execution_count": null,
      "metadata": {
        "id": "RDC-mQEjkirG"
      },
      "outputs": [],
      "source": [
        "# simple, limit order\n",
        "req = LimitOrderRequest(\n",
        "    symbol = symbol,\n",
        "    qty = 0.01,\n",
        "    limit_price = 60000,\n",
        "    side = OrderSide.BUY,\n",
        "    type = OrderType.LIMIT,\n",
        "    time_in_force = TimeInForce.GTC,\n",
        ")\n",
        "res = trade_client.submit_order(req)\n",
        "res"
      ]
    },
    {
      "cell_type": "code",
      "execution_count": null,
      "metadata": {
        "id": "NOBhJ0WPkirG"
      },
      "outputs": [],
      "source": [
        "# stop limit order\n",
        "req = StopLimitOrderRequest(\n",
        "                    symbol = symbol,\n",
        "                    qty = 0.01,\n",
        "                    side = OrderSide.BUY,\n",
        "                    time_in_force = TimeInForce.GTC,\n",
        "                    limit_price = 55000,\n",
        "                    stop_price = 60000\n",
        "                    )\n",
        "\n",
        "res = trade_client.submit_order(req)\n",
        "res"
      ]
    },
    {
      "cell_type": "code",
      "execution_count": 13,
      "metadata": {
        "colab": {
          "base_uri": "https://localhost:8080/"
        },
        "id": "ZwV8wl8JkirG",
        "outputId": "403699a3-7380-4ef3-fc8b-dac06960d868"
      },
      "outputs": [
        {
          "output_type": "execute_result",
          "data": {
            "text/plain": [
              "[{   'asset_class': <AssetClass.CRYPTO: 'crypto'>,\n",
              "     'asset_id': UUID('276e2673-764b-4ab6-a611-caf665ca6340'),\n",
              "     'canceled_at': None,\n",
              "     'client_order_id': '9b86722d-6f2e-4216-ba67-1ab0eb319496',\n",
              "     'created_at': datetime.datetime(2024, 12, 3, 3, 34, 9, 126737, tzinfo=TzInfo(UTC)),\n",
              "     'expired_at': None,\n",
              "     'extended_hours': False,\n",
              "     'failed_at': None,\n",
              "     'filled_at': datetime.datetime(2024, 12, 3, 3, 34, 9, 132543, tzinfo=TzInfo(UTC)),\n",
              "     'filled_avg_price': '96200',\n",
              "     'filled_qty': '0.00001243',\n",
              "     'hwm': None,\n",
              "     'id': UUID('d6424412-a531-4ada-9748-fffef736a829'),\n",
              "     'legs': None,\n",
              "     'limit_price': None,\n",
              "     'notional': '1.22',\n",
              "     'order_class': <OrderClass.SIMPLE: 'simple'>,\n",
              "     'order_type': <OrderType.MARKET: 'market'>,\n",
              "     'qty': None,\n",
              "     'replaced_at': None,\n",
              "     'replaced_by': None,\n",
              "     'replaces': None,\n",
              "     'side': <OrderSide.BUY: 'buy'>,\n",
              "     'status': <OrderStatus.FILLED: 'filled'>,\n",
              "     'stop_price': None,\n",
              "     'submitted_at': datetime.datetime(2024, 12, 3, 3, 34, 9, 126737, tzinfo=TzInfo(UTC)),\n",
              "     'symbol': 'BTC/USD',\n",
              "     'time_in_force': <TimeInForce.GTC: 'gtc'>,\n",
              "     'trail_percent': None,\n",
              "     'trail_price': None,\n",
              "     'type': <OrderType.MARKET: 'market'>,\n",
              "     'updated_at': datetime.datetime(2024, 12, 3, 3, 34, 9, 168185, tzinfo=TzInfo(UTC))},\n",
              " {   'asset_class': <AssetClass.CRYPTO: 'crypto'>,\n",
              "     'asset_id': UUID('276e2673-764b-4ab6-a611-caf665ca6340'),\n",
              "     'canceled_at': None,\n",
              "     'client_order_id': 'fe6e34af-2555-49d1-9b0d-73e6bc10a902',\n",
              "     'created_at': datetime.datetime(2024, 12, 3, 3, 33, 7, 578601, tzinfo=TzInfo(UTC)),\n",
              "     'expired_at': None,\n",
              "     'extended_hours': False,\n",
              "     'failed_at': None,\n",
              "     'filled_at': datetime.datetime(2024, 12, 3, 3, 33, 7, 584260, tzinfo=TzInfo(UTC)),\n",
              "     'filled_avg_price': '96152',\n",
              "     'filled_qty': '0.001',\n",
              "     'hwm': None,\n",
              "     'id': UUID('e5b3fedc-10a2-4f7c-89be-446c9c6584e4'),\n",
              "     'legs': None,\n",
              "     'limit_price': None,\n",
              "     'notional': None,\n",
              "     'order_class': <OrderClass.SIMPLE: 'simple'>,\n",
              "     'order_type': <OrderType.MARKET: 'market'>,\n",
              "     'qty': '0.001',\n",
              "     'replaced_at': None,\n",
              "     'replaced_by': None,\n",
              "     'replaces': None,\n",
              "     'side': <OrderSide.BUY: 'buy'>,\n",
              "     'status': <OrderStatus.FILLED: 'filled'>,\n",
              "     'stop_price': None,\n",
              "     'submitted_at': datetime.datetime(2024, 12, 3, 3, 33, 7, 578601, tzinfo=TzInfo(UTC)),\n",
              "     'symbol': 'BTC/USD',\n",
              "     'time_in_force': <TimeInForce.GTC: 'gtc'>,\n",
              "     'trail_percent': None,\n",
              "     'trail_price': None,\n",
              "     'type': <OrderType.MARKET: 'market'>,\n",
              "     'updated_at': datetime.datetime(2024, 12, 3, 3, 33, 7, 617728, tzinfo=TzInfo(UTC))}]"
            ]
          },
          "metadata": {},
          "execution_count": 13
        }
      ],
      "source": [
        "# get a list of orders including closed (e.g. filled) orders by specifying symbol\n",
        "req = GetOrdersRequest(\n",
        "    status = QueryOrderStatus.ALL,\n",
        "    symbols = [symbol]\n",
        ")\n",
        "orders = trade_client.get_orders(req)\n",
        "orders"
      ]
    },
    {
      "cell_type": "code",
      "execution_count": null,
      "metadata": {
        "id": "EdYBv0PPkirG"
      },
      "outputs": [],
      "source": [
        "# see all open orders\n",
        "req = GetOrdersRequest(\n",
        "    status = QueryOrderStatus.OPEN,\n",
        "    symbols = [symbol]\n",
        ")\n",
        "open_orders = trade_client.get_orders(req)\n",
        "open_orders"
      ]
    },
    {
      "cell_type": "code",
      "execution_count": null,
      "metadata": {
        "id": "QeTh1_2ikirG"
      },
      "outputs": [],
      "source": [
        "# cancel all open orders\n",
        "trade_client.cancel_orders()"
      ]
    },
    {
      "cell_type": "markdown",
      "metadata": {
        "id": "-NY1P7lFkirG"
      },
      "source": [
        "### Positions"
      ]
    },
    {
      "cell_type": "code",
      "execution_count": 14,
      "metadata": {
        "colab": {
          "base_uri": "https://localhost:8080/"
        },
        "id": "OhUBwl8JkirG",
        "outputId": "aece6cd0-2e7e-4239-c87b-110435182ae7"
      },
      "outputs": [
        {
          "output_type": "execute_result",
          "data": {
            "text/plain": [
              "[{   'asset_class': <AssetClass.CRYPTO: 'crypto'>,\n",
              "     'asset_id': UUID('64bbff51-59d6-4b3c-9351-13ad85e3c752'),\n",
              "     'asset_marginable': False,\n",
              "     'avg_entry_price': '96152.589271392',\n",
              "     'avg_entry_swap_rate': None,\n",
              "     'change_today': '-0.0016128610965566',\n",
              "     'cost_basis': '97.104308',\n",
              "     'current_price': '95939.463',\n",
              "     'exchange': <AssetExchange.CRYPTO: 'CRYPTO'>,\n",
              "     'lastday_price': '96094.45',\n",
              "     'market_value': '96.889072',\n",
              "     'qty': '0.001009898',\n",
              "     'qty_available': '0.001009898',\n",
              "     'side': <PositionSide.LONG: 'long'>,\n",
              "     'swap_rate': None,\n",
              "     'symbol': 'BTCUSD',\n",
              "     'unrealized_intraday_pl': '-0.215236',\n",
              "     'unrealized_intraday_plpc': '-0.0022165442958514',\n",
              "     'unrealized_pl': '-0.215236',\n",
              "     'unrealized_plpc': '-0.0022165442958514',\n",
              "     'usd': None}]"
            ]
          },
          "metadata": {},
          "execution_count": 14
        }
      ],
      "source": [
        "# get all open positions\n",
        "# ref. https://docs.alpaca.markets/reference/getallopenpositions-1\n",
        "positions = trade_client.get_all_positions()\n",
        "positions"
      ]
    },
    {
      "cell_type": "code",
      "execution_count": null,
      "metadata": {
        "id": "5lqQU6-skirG"
      },
      "outputs": [],
      "source": [
        "# get positions by symbol\n",
        "# ref. https://docs.alpaca.markets/reference/getopenposition-1\n",
        "position = trade_client.get_open_position(symbol_or_asset_id=symbol)\n",
        "position\n"
      ]
    },
    {
      "cell_type": "code",
      "execution_count": null,
      "metadata": {
        "id": "4SwEMBFNkirG"
      },
      "outputs": [],
      "source": [
        "# get positions by asset_id\n",
        "trade_client.get_open_position(symbol_or_asset_id=position.asset_id)"
      ]
    },
    {
      "cell_type": "code",
      "execution_count": null,
      "metadata": {
        "id": "H9Ytj0_okirG"
      },
      "outputs": [],
      "source": [
        "# close the position with specifying qty\n",
        "# ref. https://docs.alpaca.markets/reference/deleteopenposition-1\n",
        "trade_client.close_position(\n",
        "    symbol_or_asset_id = symbol,\n",
        "    close_options = ClosePositionRequest(\n",
        "        qty = \"0.01\",\n",
        "    )\n",
        ")"
      ]
    },
    {
      "cell_type": "markdown",
      "metadata": {
        "id": "-QV5nfOOkirG"
      },
      "source": [
        "# Trade Update (Stream)"
      ]
    },
    {
      "cell_type": "markdown",
      "metadata": {
        "id": "czym2a1KkirG"
      },
      "source": [
        "With TradingStream client, you can get updates about trades\n",
        "\n",
        "You can open this notebook in another window and run below cell to check trade updates."
      ]
    },
    {
      "cell_type": "code",
      "execution_count": null,
      "metadata": {
        "id": "IOMTgJAckirG"
      },
      "outputs": [],
      "source": [
        "# subscribe trade updates\n",
        "trade_stream_client = TradingStream(api_key, secret_key, paper=paper, url_override = trade_api_wss)\n",
        "\n",
        "async def trade_updates_handler(data):\n",
        "    print(data)\n",
        "\n",
        "trade_stream_client.subscribe_trade_updates(trade_updates_handler)\n",
        "trade_stream_client.run()"
      ]
    },
    {
      "cell_type": "markdown",
      "metadata": {
        "id": "ZDOPgHZHkirG"
      },
      "source": [
        "# Market Data (Historical)"
      ]
    },
    {
      "cell_type": "code",
      "execution_count": null,
      "metadata": {
        "id": "_QBt0dHakirG"
      },
      "outputs": [],
      "source": [
        "# setup crypto historical data client\n",
        "crypto_historical_data_client = CryptoHistoricalDataClient()"
      ]
    },
    {
      "cell_type": "code",
      "execution_count": null,
      "metadata": {
        "id": "8_dyygmakirG"
      },
      "outputs": [],
      "source": [
        "# get historical bars by symbol\n",
        "# ref. https://docs.alpaca.markets/reference/cryptobars-1\n",
        "now = datetime.now(ZoneInfo(\"America/New_York\"))\n",
        "req = CryptoBarsRequest(\n",
        "    symbol_or_symbols = [symbol],\n",
        "    timeframe=TimeFrame(amount = 1, unit = TimeFrameUnit.Hour), # specify timeframe\n",
        "    start = now - timedelta(days = 1),                          # specify start datetime, default=the beginning of the current day.\n",
        "    # end_date=None,                                        # specify end datetime, default=now\n",
        "    limit = 2,                                               # specify limit\n",
        ")\n",
        "crypto_historical_data_client.get_crypto_bars(req).df"
      ]
    },
    {
      "cell_type": "code",
      "execution_count": null,
      "metadata": {
        "id": "JKHa7kFJkirG"
      },
      "outputs": [],
      "source": [
        "# get historical quote by symbol\n",
        "# ref. https://docs.alpaca.markets/reference/cryptoquotes-1\n",
        "now = datetime.now(ZoneInfo(\"America/New_York\"))\n",
        "req = CryptoQuoteRequest(\n",
        "    symbol_or_symbols = [symbol],\n",
        "    start = now - timedelta(days = 1),                          # specify start datetime, default=the beginning of the current day.\n",
        "    # end_date=None,                                        # specify end datetime, default=now\n",
        "    limit = 2,                                               # specify limit\n",
        ")\n",
        "crypto_historical_data_client.get_crypto_quotes(req).df"
      ]
    },
    {
      "cell_type": "code",
      "execution_count": null,
      "metadata": {
        "id": "-CnrBNfqkirH"
      },
      "outputs": [],
      "source": [
        "# get historical trades by symbol\n",
        "req = CryptoTradesRequest(\n",
        "    symbol_or_symbols = [symbol],\n",
        "    start = now - timedelta(days = 1),                          # specify start datetime, default=the beginning of the current day.\n",
        "    # end=None,                                             # specify end datetime, default=now\n",
        "    limit = 2,                                                # specify limit\n",
        ")\n",
        "crypto_historical_data_client.get_crypto_trades(req).df"
      ]
    },
    {
      "cell_type": "code",
      "execution_count": null,
      "metadata": {
        "id": "eQixMYztkirH"
      },
      "outputs": [],
      "source": [
        "# get latest quotes by symbol\n",
        "req = CryptoLatestQuoteRequest(\n",
        "    symbol_or_symbols = [symbol],\n",
        ")\n",
        "res = crypto_historical_data_client.get_crypto_latest_quote(req)\n",
        "res"
      ]
    }
  ],
  "metadata": {
    "kernelspec": {
      "display_name": ".venv",
      "language": "python",
      "name": "python3"
    },
    "language_info": {
      "codemirror_mode": {
        "name": "ipython",
        "version": 3
      },
      "file_extension": ".py",
      "mimetype": "text/x-python",
      "name": "python",
      "nbconvert_exporter": "python",
      "pygments_lexer": "ipython3",
      "version": "3.12.2"
    },
    "colab": {
      "provenance": []
    }
  },
  "nbformat": 4,
  "nbformat_minor": 0
}